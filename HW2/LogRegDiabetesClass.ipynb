{
 "cells": [
  {
   "cell_type": "code",
   "execution_count": 228,
   "id": "e653ccac-9430-43e6-8051-569bda0cfac6",
   "metadata": {},
   "outputs": [],
   "source": [
    "import numpy as np\n",
    "import pandas as pd\n",
    "import matplotlib.pyplot as plt\n",
    "from sklearn.model_selection import KFold\n",
    "from sklearn.model_selection import cross_val_score\n",
    "from sklearn.linear_model import LogisticRegression\n",
    "from sklearn import datasets\n",
    "from sklearn.metrics import confusion_matrix\n",
    "from sklearn.metrics import classification_report\n",
    "from sklearn.model_selection import train_test_split\n",
    "from sklearn.preprocessing import StandardScaler \n",
    "import seaborn as sns\n",
    "from sklearn import metrics "
   ]
  },
  {
   "cell_type": "code",
   "execution_count": 229,
   "id": "a3d9f9d6-b3df-418a-9c37-d474eb6b50f2",
   "metadata": {
    "tags": []
   },
   "outputs": [],
   "source": [
    "dataset = pd.read_csv('C:\\\\Users\\\\Eric\\\\Desktop\\\\4105\\\\HW2\\\\diabetes.csv')\n",
    "x = dataset.values[:,6]\n",
    "y = dataset.values[:,8]"
   ]
  },
  {
   "cell_type": "code",
   "execution_count": 230,
   "id": "a005961d-fba5-4f87-bc83-214366a911bb",
   "metadata": {},
   "outputs": [
    {
     "data": {
      "text/plain": [
       "LogisticRegression(random_state=0)"
      ]
     },
     "execution_count": 230,
     "metadata": {},
     "output_type": "execute_result"
    }
   ],
   "source": [
    "xTrain, xTest, yTrain, yTest = train_test_split(x, y, test_size = 0.2, random_state=0)\n",
    "\n",
    "xTrain = xTrain.reshape(-1,1)\n",
    "xTest = xTest.reshape(-1,1)\n",
    "\n",
    "xTrainSc = StandardScaler()\n",
    "xTrain = xTrainSc.fit_transform(xTrain)\n",
    "xTest = xTrainSc.fit_transform(xTest)\n",
    "\n",
    "classifier = LogisticRegression(random_state=0)\n",
    "classifier.fit(xTrain, yTrain)"
   ]
  },
  {
   "cell_type": "code",
   "execution_count": 231,
   "id": "03ee78b8-c7d6-48ad-82ca-93d381080904",
   "metadata": {},
   "outputs": [],
   "source": [
    "yPredic = classifier.predict(xTest) \n",
    "cnf_matrix = confusion_matrix(yTest, yPredic) "
   ]
  },
  {
   "cell_type": "code",
   "execution_count": 232,
   "id": "cbad0172-662f-4069-8db6-f77cd59ac189",
   "metadata": {},
   "outputs": [
    {
     "name": "stdout",
     "output_type": "stream",
     "text": [
      "Accuracy: 0.6883116883116883\n",
      "Precision: 0.45454545454545453\n",
      "Recall: 0.10638297872340426\n"
     ]
    }
   ],
   "source": [
    "print(\"Accuracy:\",metrics.accuracy_score(yTest, yPredic)) \n",
    "print(\"Precision:\",metrics.precision_score(yTest, yPredic)) \n",
    "print(\"Recall:\",metrics.recall_score(yTest, yPredic)) "
   ]
  },
  {
   "cell_type": "code",
   "execution_count": 233,
   "id": "bcdea350-3e38-4362-8747-d736372522c7",
   "metadata": {},
   "outputs": [
    {
     "data": {
      "text/plain": [
       "Text(0.5, 257.44, 'Predicted label')"
      ]
     },
     "execution_count": 233,
     "metadata": {},
     "output_type": "execute_result"
    },
    {
     "data": {
      "image/png": "[encoded data removed]",
      "text/plain": [
       "<Figure size 432x288 with 2 Axes>"
      ]
     },
     "metadata": {
      "needs_background": "light"
     },
     "output_type": "display_data"
    }
   ],
   "source": [
    "class_names=[0,1] # name  of classes \n",
    "fig, ax = plt.subplots() \n",
    "tick_marks = np.arange(len(class_names)) \n",
    "plt.xticks(tick_marks, class_names) \n",
    "plt.yticks(tick_marks, class_names) \n",
    "# create heatmap \n",
    "sns.heatmap(pd.DataFrame(cnf_matrix), annot=True, cmap=\"YlGnBu\" ,fmt='g') \n",
    "ax.xaxis.set_label_position(\"top\") \n",
    "plt.tight_layout() \n",
    "plt.title('Confusion matrix', y=1.1) \n",
    "plt.ylabel('Actual label') \n",
    "plt.xlabel('Predicted label') "
   ]
  },
  {
   "cell_type": "code",
   "execution_count": null,
   "id": "fbc74b02-b4ef-4526-8318-6dacb621cca5",
   "metadata": {},
   "outputs": [],
   "source": []
  }
 ],
 "metadata": {
  "kernelspec": {
   "display_name": "Python 3 (ipykernel)",
   "language": "python",
   "name": "python3"
  },
  "language_info": {
   "codemirror_mode": {
    "name": "ipython",
    "version": 3
   },
   "file_extension": ".py",
   "mimetype": "text/x-python",
   "name": "python",
   "nbconvert_exporter": "python",
   "pygments_lexer": "ipython3",
   "version": "3.9.12"
  }
 },
 "nbformat": 4,
 "nbformat_minor": 5
}
