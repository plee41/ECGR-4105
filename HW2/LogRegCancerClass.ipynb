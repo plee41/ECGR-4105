{
 "cells": [
  {
   "cell_type": "code",
   "execution_count": 103,
   "id": "0ef74e96-ada1-46fe-a624-486e88d4fbf6",
   "metadata": {},
   "outputs": [],
   "source": [
    "import numpy as np\n",
    "import pandas as pd\n",
    "import matplotlib.pyplot as plt\n",
    "from sklearn.model_selection import KFold\n",
    "from sklearn.model_selection import cross_val_score\n",
    "from sklearn.linear_model import LogisticRegression\n",
    "from sklearn import datasets\n",
    "from sklearn.metrics import confusion_matrix\n",
    "from sklearn.metrics import classification_report\n",
    "from sklearn.model_selection import train_test_split\n",
    "from sklearn.preprocessing import StandardScaler \n",
    "import seaborn as sns\n",
    "from sklearn import metrics \n",
    "from sklearn.datasets import load_breast_cancer"
   ]
  },
  {
   "cell_type": "code",
   "execution_count": 164,
   "id": "4fe51352-26a5-4371-90ae-3956152728bc",
   "metadata": {},
   "outputs": [],
   "source": [
    "data = load_breast_cancer()\n",
    "x = data.data\n",
    "y = data.target\n",
    "\n",
    "C = [10, 1, 0.1, 0.01]\n",
    "#print(data.keys())\n",
    "#print(data.target)"
   ]
  },
  {
   "cell_type": "code",
   "execution_count": 168,
   "id": "8951ce1d-eb23-4b89-845f-8bd748376683",
   "metadata": {},
   "outputs": [
    {
     "name": "stdout",
     "output_type": "stream",
     "text": [
      "C:  10\n",
      "Training accuracy: 0.989010989010989\n",
      "Test accuracy: 0.956140350877193\n",
      "\n",
      "C:  1\n",
      "Training accuracy: 0.989010989010989\n",
      "Test accuracy: 0.956140350877193\n",
      "\n",
      "C:  0.1\n",
      "Training accuracy: 0.9758241758241758\n",
      "Test accuracy: 0.9736842105263158\n",
      "\n",
      "C:  0.01\n",
      "Training accuracy: 0.9274725274725275\n",
      "Test accuracy: 0.9210526315789473\n",
      "\n",
      "              precision    recall  f1-score   support\n",
      "\n",
      "           0       0.96      0.94      0.95        47\n",
      "           1       0.96      0.97      0.96        67\n",
      "\n",
      "    accuracy                           0.96       114\n",
      "   macro avg       0.96      0.95      0.95       114\n",
      "weighted avg       0.96      0.96      0.96       114\n",
      "\n"
     ]
    }
   ],
   "source": [
    "xTrain, xTest, yTrain, yTest = train_test_split(x, y, test_size = 0.2, random_state=0)\n",
    "\n",
    "xTrainSc = StandardScaler()\n",
    "xTrain = xTrainSc.fit_transform(xTrain)\n",
    "xTest = xTrainSc.fit_transform(xTest)\n",
    "#classifier = LogisticRegression(random_state=0)\n",
    "#classifier.fit(xTrain, yTrain)\n",
    "for c in C:\n",
    "    clf = LogisticRegression(penalty='l1', C=c, solver='liblinear')\n",
    "    clf.fit(xTrain, yTrain)\n",
    "    print('C: ', c)\n",
    "    print('Training accuracy:', clf.score(xTrain,yTrain))\n",
    "    print('Test accuracy:', clf.score(xTest,yTest))\n",
    "    print('')\n",
    "model = LogisticRegression(solver='liblinear')\n",
    "model.fit(xTrain, yTrain)\n",
    "predicted = model.predict(xTest)\n",
    "matrix = confusion_matrix(yTest, predicted)\n",
    "report = classification_report(yTest, predicted)\n",
    "print(report)"
   ]
  },
  {
   "cell_type": "code",
   "execution_count": 169,
   "id": "e02898ec-7662-4fa4-85e9-b49174057050",
   "metadata": {},
   "outputs": [
    {
     "name": "stdout",
     "output_type": "stream",
     "text": [
      "Accuracy: 0.956140350877193\n",
      "Precision: 0.9558823529411765\n",
      "Recall: 0.9701492537313433\n"
     ]
    }
   ],
   "source": [
    "yPredic = classifier.predict(xTest) \n",
    "cnf_matrix = confusion_matrix(yTest, yPredic) \n",
    "\n",
    "print(\"Accuracy:\",metrics.accuracy_score(yTest, yPredic)) \n",
    "print(\"Precision:\",metrics.precision_score(yTest, yPredic)) \n",
    "print(\"Recall:\",metrics.recall_score(yTest, yPredic)) "
   ]
  },
  {
   "cell_type": "code",
   "execution_count": 170,
   "id": "fb9e0522-3200-4ff2-91de-eca3520b2819",
   "metadata": {},
   "outputs": [
    {
     "data": {
      "text/plain": [
       "Text(0.5, 257.44, 'Predicted label')"
      ]
     },
     "execution_count": 170,
     "metadata": {},
     "output_type": "execute_result"
    },
    {
     "data": {
      "image/png": "[encoded data removed]",
      "text/plain": [
       "<Figure size 432x288 with 2 Axes>"
      ]
     },
     "metadata": {
      "needs_background": "light"
     },
     "output_type": "display_data"
    }
   ],
   "source": [
    "class_names=[0,1] # name  of classes \n",
    "fig, ax = plt.subplots() \n",
    "tick_marks = np.arange(len(class_names)) \n",
    "plt.xticks(tick_marks, class_names) \n",
    "plt.yticks(tick_marks, class_names) \n",
    "# create heatmap \n",
    "sns.heatmap(pd.DataFrame(cnf_matrix), annot=True, cmap=\"YlGnBu\" ,fmt='g') \n",
    "ax.xaxis.set_label_position(\"top\") \n",
    "plt.tight_layout() \n",
    "plt.title('Confusion matrix', y=1.1) \n",
    "plt.ylabel('Actual label') \n",
    "plt.xlabel('Predicted label') "
   ]
  },
  {
   "cell_type": "code",
   "execution_count": null,
   "id": "c79c3694-220b-4234-983c-ddd9807ff2ad",
   "metadata": {},
   "outputs": [],
   "source": []
  },
  {
   "cell_type": "code",
   "execution_count": null,
   "id": "6ad67b56-2f0c-413e-863e-3d7be9f5f1b0",
   "metadata": {},
   "outputs": [],
   "source": []
  }
 ],
 "metadata": {
  "kernelspec": {
   "display_name": "Python 3 (ipykernel)",
   "language": "python",
   "name": "python3"
  },
  "language_info": {
   "codemirror_mode": {
    "name": "ipython",
    "version": 3
   },
   "file_extension": ".py",
   "mimetype": "text/x-python",
   "name": "python",
   "nbconvert_exporter": "python",
   "pygments_lexer": "ipython3",
   "version": "3.9.12"
  }
 },
 "nbformat": 4,
 "nbformat_minor": 5
}
